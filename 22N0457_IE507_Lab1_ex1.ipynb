{
  "nbformat": 4,
  "nbformat_minor": 0,
  "metadata": {
    "colab": {
      "name": "22N0457_IE507_Lab1_ex1.ipynb",
      "provenance": [],
      "collapsed_sections": []
    },
    "kernelspec": {
      "name": "python3",
      "display_name": "Python 3"
    },
    "language_info": {
      "name": "python"
    }
  },
  "cells": [
    {
      "cell_type": "code",
      "execution_count": 32,
      "metadata": {
        "id": "KruOPCFt1hQ4"
      },
      "outputs": [],
      "source": [
        "!pip install -q pyomo"
      ]
    },
    {
      "cell_type": "code",
      "source": [
        "from pyomo.environ import *"
      ],
      "metadata": {
        "id": "iq29CPVM2tQ2"
      },
      "execution_count": 33,
      "outputs": []
    },
    {
      "cell_type": "code",
      "source": [
        "model= ConcreteModel()"
      ],
      "metadata": {
        "id": "WWvO4mQX24N_"
      },
      "execution_count": 34,
      "outputs": []
    },
    {
      "cell_type": "code",
      "source": [
        "#create variable\n",
        "model.x1 =Var(domain=Reals)\n",
        "model.x2 =Var(domain = Reals)\n",
        "model.x3 =Var(domain = Reals)\n",
        "model.x4 =Var(domain = Reals)\n",
        "model.x5 =Var(domain = Reals)\n",
        "model.x6 =Var(domain = Reals)\n",
        "model.x7 =Var(domain = Reals)"
      ],
      "metadata": {
        "id": "QoMGOQY83CO0"
      },
      "execution_count": 35,
      "outputs": []
    },
    {
      "cell_type": "code",
      "source": [
        "#declare objective\n",
        "model.cost = Objective(expr=  -3*model.x1 - 2*model.x2 + 8*model.x3 - 7*model.x4 + 0.19*model.x5 + 11*model.x6 + 20.2*model.x7, sense= minimize)"
      ],
      "metadata": {
        "id": "XG1o90io4LRE"
      },
      "execution_count": 36,
      "outputs": []
    },
    {
      "cell_type": "code",
      "source": [
        "#declare constraints\n",
        "model.con1 = Constraint(expr = 1*model.x1 + 1*model.x2 + 1*model.x3 + 1*model.x4 + 1*model.x5 + 1*model.x6 + 1*model.x7 == 256)\n",
        "model.con2 = Constraint(expr = -1*model.x2 + model.x3 >= 10)\n",
        "model.con3 = Constraint(expr = -3*model.x1 + 1*model.x5 -12*model.x6 <=105)\n",
        "model.con4 = Constraint(expr = 18.5*model.x2 +30.5*model.x4 - 1*model.x7 >=28)\n",
        "model.con5 = Constraint(expr = -1*model.x3 -4*model.x5 + 1*model.x7 >=31)\n",
        "model.con6 = Constraint(expr = model.x1 >=-5)\n",
        "model.con7 = Constraint(expr = model.x2 >=0)\n",
        "model.con8 = Constraint(expr = model.x3 >=5)\n",
        "model.con9 = Constraint(expr = model.x4 >=-3)\n",
        "model.con10 = Constraint(expr = model.x5 >=-4)\n",
        "model.con11 = Constraint(expr = model.x6 >=0)\n",
        "model.con12 = Constraint(expr = model.x1 >=10)\n",
        "\n",
        "\n"
      ],
      "metadata": {
        "colab": {
          "base_uri": "https://localhost:8080/"
        },
        "id": "VAgUzOy88_tH",
        "outputId": "d3f1bbab-54d2-484a-fbac-d312d6f0b5ea"
      },
      "execution_count": 42,
      "outputs": [
        {
          "output_type": "stream",
          "name": "stderr",
          "text": [
            "WARNING:pyomo.core:Implicitly replacing the Component attribute con1 (type=<class 'pyomo.core.base.constraint.ScalarConstraint'>) on block unknown with a new Component (type=<class 'pyomo.core.base.constraint.AbstractScalarConstraint'>).\n",
            "This is usually indicative of a modelling error.\n",
            "To avoid this warning, use block.del_component() and block.add_component().\n",
            "WARNING:pyomo.core:Implicitly replacing the Component attribute con2 (type=<class 'pyomo.core.base.constraint.ScalarConstraint'>) on block unknown with a new Component (type=<class 'pyomo.core.base.constraint.AbstractScalarConstraint'>).\n",
            "This is usually indicative of a modelling error.\n",
            "To avoid this warning, use block.del_component() and block.add_component().\n"
          ]
        }
      ]
    },
    {
      "cell_type": "code",
      "source": [
        "!apt-get install -y -qq glpk.utils"
      ],
      "metadata": {
        "colab": {
          "base_uri": "https://localhost:8080/"
        },
        "id": "DwcVoHLrGAcI",
        "outputId": "8fa9a1f7-54f6-487c-908f-5049a2475b7d"
      },
      "execution_count": 43,
      "outputs": [
        {
          "output_type": "stream",
          "name": "stdout",
          "text": [
            "Selecting previously unselected package libsuitesparseconfig5:amd64.\n",
            "(Reading database ... 155673 files and directories currently installed.)\n",
            "Preparing to unpack .../libsuitesparseconfig5_1%3a5.1.2-2_amd64.deb ...\n",
            "Unpacking libsuitesparseconfig5:amd64 (1:5.1.2-2) ...\n",
            "Selecting previously unselected package libamd2:amd64.\n",
            "Preparing to unpack .../libamd2_1%3a5.1.2-2_amd64.deb ...\n",
            "Unpacking libamd2:amd64 (1:5.1.2-2) ...\n",
            "Selecting previously unselected package libcolamd2:amd64.\n",
            "Preparing to unpack .../libcolamd2_1%3a5.1.2-2_amd64.deb ...\n",
            "Unpacking libcolamd2:amd64 (1:5.1.2-2) ...\n",
            "Selecting previously unselected package libglpk40:amd64.\n",
            "Preparing to unpack .../libglpk40_4.65-1_amd64.deb ...\n",
            "Unpacking libglpk40:amd64 (4.65-1) ...\n",
            "Selecting previously unselected package glpk-utils.\n",
            "Preparing to unpack .../glpk-utils_4.65-1_amd64.deb ...\n",
            "Unpacking glpk-utils (4.65-1) ...\n",
            "Setting up libsuitesparseconfig5:amd64 (1:5.1.2-2) ...\n",
            "Setting up libcolamd2:amd64 (1:5.1.2-2) ...\n",
            "Setting up libamd2:amd64 (1:5.1.2-2) ...\n",
            "Setting up libglpk40:amd64 (4.65-1) ...\n",
            "Setting up glpk-utils (4.65-1) ...\n",
            "Processing triggers for libc-bin (2.27-3ubuntu1.3) ...\n",
            "Processing triggers for man-db (2.8.3-2ubuntu0.1) ...\n"
          ]
        }
      ]
    },
    {
      "cell_type": "code",
      "source": [
        "model.pprint()"
      ],
      "metadata": {
        "colab": {
          "base_uri": "https://localhost:8080/"
        },
        "id": "VFOcpAvAGm9G",
        "outputId": "80950944-3437-4cbd-95f5-133df34e0771"
      },
      "execution_count": 44,
      "outputs": [
        {
          "output_type": "stream",
          "name": "stdout",
          "text": [
            "7 Var Declarations\n",
            "    x1 : Size=1, Index=None\n",
            "        Key  : Lower : Value : Upper : Fixed : Stale : Domain\n",
            "        None :  None :  None :  None : False :  True :  Reals\n",
            "    x2 : Size=1, Index=None\n",
            "        Key  : Lower : Value : Upper : Fixed : Stale : Domain\n",
            "        None :  None :  None :  None : False :  True :  Reals\n",
            "    x3 : Size=1, Index=None\n",
            "        Key  : Lower : Value : Upper : Fixed : Stale : Domain\n",
            "        None :  None :  None :  None : False :  True :  Reals\n",
            "    x4 : Size=1, Index=None\n",
            "        Key  : Lower : Value : Upper : Fixed : Stale : Domain\n",
            "        None :  None :  None :  None : False :  True :  Reals\n",
            "    x5 : Size=1, Index=None\n",
            "        Key  : Lower : Value : Upper : Fixed : Stale : Domain\n",
            "        None :  None :  None :  None : False :  True :  Reals\n",
            "    x6 : Size=1, Index=None\n",
            "        Key  : Lower : Value : Upper : Fixed : Stale : Domain\n",
            "        None :  None :  None :  None : False :  True :  Reals\n",
            "    x7 : Size=1, Index=None\n",
            "        Key  : Lower : Value : Upper : Fixed : Stale : Domain\n",
            "        None :  None :  None :  None : False :  True :  Reals\n",
            "\n",
            "1 Objective Declarations\n",
            "    cost : Size=1, Index=None, Active=True\n",
            "        Key  : Active : Sense    : Expression\n",
            "        None :   True : minimize : -3*x1 - 2*x2 + 8*x3 - 7*x4 + 0.19*x5 + 11*x6 + 20.2*x7\n",
            "\n",
            "12 Constraint Declarations\n",
            "    con1 : Size=1, Index=None, Active=True\n",
            "        Key  : Lower : Body                             : Upper : Active\n",
            "        None : 256.0 : x1 + x2 + x3 + x4 + x5 + x6 + x7 : 256.0 :   True\n",
            "    con10 : Size=1, Index=None, Active=True\n",
            "        Key  : Lower : Body : Upper : Active\n",
            "        None :  -4.0 :   x5 :  +Inf :   True\n",
            "    con11 : Size=1, Index=None, Active=True\n",
            "        Key  : Lower : Body : Upper : Active\n",
            "        None :   0.0 :   x6 :  +Inf :   True\n",
            "    con12 : Size=1, Index=None, Active=True\n",
            "        Key  : Lower : Body : Upper : Active\n",
            "        None :  10.0 :   x1 :  +Inf :   True\n",
            "    con2 : Size=1, Index=None, Active=True\n",
            "        Key  : Lower : Body      : Upper : Active\n",
            "        None :  10.0 : - x2 + x3 :  +Inf :   True\n",
            "    con3 : Size=1, Index=None, Active=True\n",
            "        Key  : Lower : Body               : Upper : Active\n",
            "        None :  -Inf : -3*x1 + x5 - 12*x6 : 105.0 :   True\n",
            "    con4 : Size=1, Index=None, Active=True\n",
            "        Key  : Lower : Body                   : Upper : Active\n",
            "        None :  28.0 : 18.5*x2 + 30.5*x4 - x7 :  +Inf :   True\n",
            "    con5 : Size=1, Index=None, Active=True\n",
            "        Key  : Lower : Body             : Upper : Active\n",
            "        None :  31.0 : - x3 - 4*x5 + x7 :  +Inf :   True\n",
            "    con6 : Size=1, Index=None, Active=True\n",
            "        Key  : Lower : Body : Upper : Active\n",
            "        None :  -5.0 :   x1 :  +Inf :   True\n",
            "    con7 : Size=1, Index=None, Active=True\n",
            "        Key  : Lower : Body : Upper : Active\n",
            "        None :   0.0 :   x2 :  +Inf :   True\n",
            "    con8 : Size=1, Index=None, Active=True\n",
            "        Key  : Lower : Body : Upper : Active\n",
            "        None :   5.0 :   x3 :  +Inf :   True\n",
            "    con9 : Size=1, Index=None, Active=True\n",
            "        Key  : Lower : Body : Upper : Active\n",
            "        None :  -3.0 :   x4 :  +Inf :   True\n",
            "\n",
            "20 Declarations: x1 x2 x3 x4 x5 x6 x7 cost con1 con2 con3 con4 con5 con6 con7 con8 con9 con10 con11 con12\n"
          ]
        }
      ]
    },
    {
      "cell_type": "code",
      "source": [
        "SolverFactory('glpk',excutable = '/usr/bin/glpsol').solve(model).write()"
      ],
      "metadata": {
        "colab": {
          "base_uri": "https://localhost:8080/"
        },
        "id": "7OgapS60G6bP",
        "outputId": "42d1e1a7-6069-4f55-9261-d4380defd1f5"
      },
      "execution_count": 45,
      "outputs": [
        {
          "output_type": "stream",
          "name": "stdout",
          "text": [
            "# ==========================================================\n",
            "# = Solver Results                                         =\n",
            "# ==========================================================\n",
            "# ----------------------------------------------------------\n",
            "#   Problem Information\n",
            "# ----------------------------------------------------------\n",
            "Problem: \n",
            "- Name: unknown\n",
            "  Lower bound: -950.760000000001\n",
            "  Upper bound: -950.760000000001\n",
            "  Number of objectives: 1\n",
            "  Number of constraints: 13\n",
            "  Number of variables: 8\n",
            "  Number of nonzeros: 26\n",
            "  Sense: minimize\n",
            "# ----------------------------------------------------------\n",
            "#   Solver Information\n",
            "# ----------------------------------------------------------\n",
            "Solver: \n",
            "- Status: ok\n",
            "  Termination condition: optimal\n",
            "  Statistics: \n",
            "    Branch and bound: \n",
            "      Number of bounded subproblems: 0\n",
            "      Number of created subproblems: 0\n",
            "  Error rc: 0\n",
            "  Time: 0.010920524597167969\n",
            "# ----------------------------------------------------------\n",
            "#   Solution Information\n",
            "# ----------------------------------------------------------\n",
            "Solution: \n",
            "- number of solutions: 0\n",
            "  number of solutions displayed: 0\n"
          ]
        }
      ]
    },
    {
      "cell_type": "code",
      "source": [
        "# display solution\n",
        "print('\\nCost = ', model.cost())\n",
        "\n",
        "print('\\nDecision Variables')\n",
        "print('x1 = ', model.x1())\n",
        "print('x2 = ', model.x2())\n",
        "print('x3 = ', model.x3())\n",
        "print('x4 = ', model.x4())\n",
        "print('x5 = ', model.x5())\n",
        "print('x6 = ', model.x6())\n",
        "print('x7 = ', model.x7())\n",
        "\n",
        "\n",
        "\n",
        "\n",
        "print('\\nConstraints')\n",
        "print('Constraint 1  = ', model.con1())\n",
        "print('Constraint 2  = ', model.con2())\n",
        "print('Constraint 3  = ', model.con3())\n",
        "print('Constraint 4  = ', model.con4())\n",
        "print('Constraint 5  = ', model.con5())\n",
        "print('Constraint 6  = ', model.con6())\n",
        "print('Constraint 7  = ', model.con7())\n",
        "print('Constraint 8  = ', model.con8())\n",
        "print('Constraint 9  = ', model.con9())\n",
        "print('Constraint 10  = ', model.con10())\n",
        "print('Constraint 11  = ', model.con11())\n",
        "print('Constraint 12  = ', model.con12())\n"
      ],
      "metadata": {
        "colab": {
          "base_uri": "https://localhost:8080/"
        },
        "id": "dHEirtcjHj_8",
        "outputId": "fbb4842c-fd6e-4fab-b12a-685aeb42b18c"
      },
      "execution_count": 46,
      "outputs": [
        {
          "output_type": "stream",
          "name": "stdout",
          "text": [
            "\n",
            "Cost =  -950.76\n",
            "\n",
            "Decision Variables\n",
            "x1 =  10.0\n",
            "x2 =  0.0\n",
            "x3 =  10.0\n",
            "x4 =  215.0\n",
            "x5 =  -4.0\n",
            "x6 =  0.0\n",
            "x7 =  25.0\n",
            "\n",
            "Constraints\n",
            "Constraint 1  =  256.0\n",
            "Constraint 2  =  10.0\n",
            "Constraint 3  =  -34.0\n",
            "Constraint 4  =  6532.5\n",
            "Constraint 5  =  31.0\n",
            "Constraint 6  =  10.0\n",
            "Constraint 7  =  0.0\n",
            "Constraint 8  =  10.0\n",
            "Constraint 9  =  215.0\n",
            "Constraint 10  =  -4.0\n",
            "Constraint 11  =  0.0\n",
            "Constraint 12  =  10.0\n"
          ]
        }
      ]
    },
    {
      "cell_type": "markdown",
      "source": [
        "**solution of 1.3**\n",
        "\n",
        "\n",
        "\n",
        "**objective value = -950.76**\n",
        "\n",
        "**value of decision var**\n",
        "\n",
        "x1 = 10.0\n",
        "\n",
        "x2 = 0\n",
        "\n",
        "x3 = 10\n",
        "\n",
        "x4 = 215\n",
        "\n",
        "x5 = -4\n",
        "\n",
        "x6 = 0\n",
        "\n",
        "x7 = 25.0\n",
        "\n"
      ],
      "metadata": {
        "id": "dtLMr9_KJOqt"
      }
    },
    {
      "cell_type": "markdown",
      "source": [
        "**solution of 1.4**\n",
        "\n",
        "x1+x2+x3+x4+x5+x6+x7=256 is active since x1+x2+x3+x4+x5+x6+x7 =256\n",
        "\n",
        "-x2+x3 >=10 is active since -x2+x3=10\n",
        "\n",
        "-3x1+x5-12x6<=105 is inactive since -3x1+x5-12x6= -34\n",
        "\n",
        "18.5x2+30.5x4-x7>=28 is inactive since 18.5x2+30.5x4-x7 = 6532.5\n",
        "\n",
        "-x3-4x5+x7 >= 31 is active since -x3-4x5+x7 = 31\n"
      ],
      "metadata": {
        "id": "DW7UYBIZKcmI"
      }
    }
  ]
}