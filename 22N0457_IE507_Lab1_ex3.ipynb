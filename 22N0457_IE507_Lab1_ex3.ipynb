{
  "nbformat": 4,
  "nbformat_minor": 0,
  "metadata": {
    "colab": {
      "name": "22N0457_IE507_Lab1_ex3.ipynb",
      "provenance": [],
      "collapsed_sections": []
    },
    "kernelspec": {
      "name": "python3",
      "display_name": "Python 3"
    },
    "language_info": {
      "name": "python"
    }
  },
  "cells": [
    {
      "cell_type": "markdown",
      "source": [
        "$ \\\\ \\textbf{solution of EX 3.1} \\\\ \\\\  \\text{let 1 kg of product p be x and 1 kg of product q be y} \\\\ \\textbf{problem as linear program} \\\\ \\ min \\ \\ 1200x+2580y \\\\ \\ 2.18x+1.08333y <=980 \\\\ \\ x \\ + \\ y >= \\ 145 \\\\ \\  x \\ >= 105 \\\\ \\ y \\ >= 125$"
      ],
      "metadata": {
        "id": "p1p3w7fBzK0c"
      }
    },
    {
      "cell_type": "code",
      "execution_count": 2,
      "metadata": {
        "colab": {
          "base_uri": "https://localhost:8080/"
        },
        "id": "dtL4mOsEyl-u",
        "outputId": "6ce85483-16f3-498b-8229-59fefca6d08f"
      },
      "outputs": [
        {
          "output_type": "stream",
          "name": "stdout",
          "text": [
            "\u001b[K     |████████████████████████████████| 9.6 MB 16.7 MB/s \n",
            "\u001b[K     |████████████████████████████████| 49 kB 7.1 MB/s \n",
            "\u001b[?25h"
          ]
        }
      ],
      "source": [
        "!pip install -q pyomo"
      ]
    },
    {
      "cell_type": "code",
      "source": [
        "from pyomo.environ import *"
      ],
      "metadata": {
        "id": "QfpYg4q32N0N"
      },
      "execution_count": 3,
      "outputs": []
    },
    {
      "cell_type": "code",
      "source": [
        "#declare model\n",
        "model =ConcreteModel()"
      ],
      "metadata": {
        "id": "KiFUCOl52jKg"
      },
      "execution_count": 4,
      "outputs": []
    },
    {
      "cell_type": "code",
      "source": [
        "#declare variable\n",
        "model.x =Var(domain=Reals)\n",
        "model.y = Var(domain=Reals)"
      ],
      "metadata": {
        "id": "BPtS9h3C2ZO4"
      },
      "execution_count": 5,
      "outputs": []
    },
    {
      "cell_type": "code",
      "source": [
        "#objective\n",
        "model.cost = Objective(expr = 1200*model.x + 2580*model.y,sense = minimize)"
      ],
      "metadata": {
        "id": "_m32u-RK3Coq"
      },
      "execution_count": 6,
      "outputs": []
    },
    {
      "cell_type": "code",
      "source": [
        "#declare constraint\n",
        "model.constr1 = Constraint( expr = 2.18*model.x + 1.08333*model.y <=980)\n",
        "model.constr2 = Constraint( expr = model.x + model.y >=145)\n",
        "model.constr3 = Constraint( expr = model.x >= 105)\n",
        "model.constr4 = Constraint(expr = model.y >= 125)\n"
      ],
      "metadata": {
        "id": "ePQqZQXS3ebO"
      },
      "execution_count": 7,
      "outputs": []
    },
    {
      "cell_type": "code",
      "source": [
        "!apt-get install -y -qq glpk.utils"
      ],
      "metadata": {
        "colab": {
          "base_uri": "https://localhost:8080/"
        },
        "id": "nh-dqc6g5E5v",
        "outputId": "6dcb199a-1168-47c4-f589-75f7b9369440"
      },
      "execution_count": 8,
      "outputs": [
        {
          "output_type": "stream",
          "name": "stdout",
          "text": [
            "Selecting previously unselected package libsuitesparseconfig5:amd64.\n",
            "(Reading database ... 155673 files and directories currently installed.)\n",
            "Preparing to unpack .../libsuitesparseconfig5_1%3a5.1.2-2_amd64.deb ...\n",
            "Unpacking libsuitesparseconfig5:amd64 (1:5.1.2-2) ...\n",
            "Selecting previously unselected package libamd2:amd64.\n",
            "Preparing to unpack .../libamd2_1%3a5.1.2-2_amd64.deb ...\n",
            "Unpacking libamd2:amd64 (1:5.1.2-2) ...\n",
            "Selecting previously unselected package libcolamd2:amd64.\n",
            "Preparing to unpack .../libcolamd2_1%3a5.1.2-2_amd64.deb ...\n",
            "Unpacking libcolamd2:amd64 (1:5.1.2-2) ...\n",
            "Selecting previously unselected package libglpk40:amd64.\n",
            "Preparing to unpack .../libglpk40_4.65-1_amd64.deb ...\n",
            "Unpacking libglpk40:amd64 (4.65-1) ...\n",
            "Selecting previously unselected package glpk-utils.\n",
            "Preparing to unpack .../glpk-utils_4.65-1_amd64.deb ...\n",
            "Unpacking glpk-utils (4.65-1) ...\n",
            "Setting up libsuitesparseconfig5:amd64 (1:5.1.2-2) ...\n",
            "Setting up libcolamd2:amd64 (1:5.1.2-2) ...\n",
            "Setting up libamd2:amd64 (1:5.1.2-2) ...\n",
            "Setting up libglpk40:amd64 (4.65-1) ...\n",
            "Setting up glpk-utils (4.65-1) ...\n",
            "Processing triggers for libc-bin (2.27-3ubuntu1.3) ...\n",
            "Processing triggers for man-db (2.8.3-2ubuntu0.1) ...\n"
          ]
        }
      ]
    },
    {
      "cell_type": "code",
      "source": [
        "model.pprint()"
      ],
      "metadata": {
        "colab": {
          "base_uri": "https://localhost:8080/"
        },
        "id": "gr2xvs-85Ubz",
        "outputId": "c98badf6-1c31-410c-d240-7c27330ddc37"
      },
      "execution_count": 9,
      "outputs": [
        {
          "output_type": "stream",
          "name": "stdout",
          "text": [
            "2 Var Declarations\n",
            "    x : Size=1, Index=None\n",
            "        Key  : Lower : Value : Upper : Fixed : Stale : Domain\n",
            "        None :  None :  None :  None : False :  True :  Reals\n",
            "    y : Size=1, Index=None\n",
            "        Key  : Lower : Value : Upper : Fixed : Stale : Domain\n",
            "        None :  None :  None :  None : False :  True :  Reals\n",
            "\n",
            "1 Objective Declarations\n",
            "    cost : Size=1, Index=None, Active=True\n",
            "        Key  : Active : Sense    : Expression\n",
            "        None :   True : minimize : 1200*x + 2580*y\n",
            "\n",
            "4 Constraint Declarations\n",
            "    constr1 : Size=1, Index=None, Active=True\n",
            "        Key  : Lower : Body               : Upper : Active\n",
            "        None :  -Inf : 2.18*x + 1.08333*y : 980.0 :   True\n",
            "    constr2 : Size=1, Index=None, Active=True\n",
            "        Key  : Lower : Body  : Upper : Active\n",
            "        None : 145.0 : x + y :  +Inf :   True\n",
            "    constr3 : Size=1, Index=None, Active=True\n",
            "        Key  : Lower : Body : Upper : Active\n",
            "        None : 105.0 :    x :  +Inf :   True\n",
            "    constr4 : Size=1, Index=None, Active=True\n",
            "        Key  : Lower : Body : Upper : Active\n",
            "        None : 125.0 :    y :  +Inf :   True\n",
            "\n",
            "7 Declarations: x y cost constr1 constr2 constr3 constr4\n"
          ]
        }
      ]
    },
    {
      "cell_type": "code",
      "source": [
        "SolverFactory('glpk',excutable = '/usr/bin/glpsol').solve(model).write()"
      ],
      "metadata": {
        "colab": {
          "base_uri": "https://localhost:8080/"
        },
        "id": "W685CC1T5ZlL",
        "outputId": "fb9428a0-7857-4a66-bfb0-e77e6161581a"
      },
      "execution_count": 10,
      "outputs": [
        {
          "output_type": "stream",
          "name": "stdout",
          "text": [
            "# ==========================================================\n",
            "# = Solver Results                                         =\n",
            "# ==========================================================\n",
            "# ----------------------------------------------------------\n",
            "#   Problem Information\n",
            "# ----------------------------------------------------------\n",
            "Problem: \n",
            "- Name: unknown\n",
            "  Lower bound: 448500.0\n",
            "  Upper bound: 448500.0\n",
            "  Number of objectives: 1\n",
            "  Number of constraints: 5\n",
            "  Number of variables: 3\n",
            "  Number of nonzeros: 7\n",
            "  Sense: minimize\n",
            "# ----------------------------------------------------------\n",
            "#   Solver Information\n",
            "# ----------------------------------------------------------\n",
            "Solver: \n",
            "- Status: ok\n",
            "  Termination condition: optimal\n",
            "  Statistics: \n",
            "    Branch and bound: \n",
            "      Number of bounded subproblems: 0\n",
            "      Number of created subproblems: 0\n",
            "  Error rc: 0\n",
            "  Time: 0.01224207878112793\n",
            "# ----------------------------------------------------------\n",
            "#   Solution Information\n",
            "# ----------------------------------------------------------\n",
            "Solution: \n",
            "- number of solutions: 0\n",
            "  number of solutions displayed: 0\n"
          ]
        }
      ]
    },
    {
      "cell_type": "code",
      "source": [
        "#display solution\n",
        "print('\\ncost = ',model.cost())\n",
        "print('\\decision variable')\n",
        "print('x=',model.x())\n",
        "print('y = ',model.y())\n",
        "print('\\n constraints')\n",
        "print('constraint1=',model.constr1())\n",
        "print('constraint2 = ',model.constr2())\n",
        "print('constraint3 = ',model.constr3())\n",
        "print('constraint4 = ',model.constr4())\n"
      ],
      "metadata": {
        "colab": {
          "base_uri": "https://localhost:8080/"
        },
        "id": "vbCpys0LXnoF",
        "outputId": "d3be5d83-1050-404c-be1e-e8eef5cb92d7"
      },
      "execution_count": 12,
      "outputs": [
        {
          "output_type": "stream",
          "name": "stdout",
          "text": [
            "\n",
            "cost =  448500.0\n",
            "\\decision variable\n",
            "x= 105.0\n",
            "y =  125.0\n",
            "\n",
            " constraints\n",
            "constraint1= 364.31624999999997\n",
            "constraint2 =  230.0\n",
            "constraint3 =  105.0\n",
            "constraint4 =  125.0\n"
          ]
        }
      ]
    },
    {
      "cell_type": "markdown",
      "source": [
        "$\\\\ \\textbf{solution of 3.3} \\\\ \\text{optimal value = 448500} \\\\ \\textbf{value of variable} \\\\ \\ x=105 \\\\ \\ y=125  \\\\  \\\\ \\\\ \\textbf{activities of constraint} \\\\ \\text{constraint 1 is inactive} \\\\ \\text{constraint 2 is inactive} \\\\ \\text{constraint 3 is active} \\\\ \\text{constraint 4 is active} $"
      ],
      "metadata": {
        "id": "PIcbnsJnZqzM"
      }
    },
    {
      "cell_type": "markdown",
      "source": [
        "$ \\\\ \\textbf{solution of 3.4} \\\\ \\text{in our problem initially x>=105 now we got another order of p of 42kg so x >= 105+42 or x >= 147} \\\\ \\text{similar for q initially y >= 125 now become y >= 222}$ "
      ],
      "metadata": {
        "id": "feFLOvB9crAV"
      }
    },
    {
      "cell_type": "code",
      "source": [
        "!pip install -q pyomo"
      ],
      "metadata": {
        "id": "WT5uYqpde7hl"
      },
      "execution_count": 13,
      "outputs": []
    },
    {
      "cell_type": "code",
      "source": [
        "from pyomo.environ import *"
      ],
      "metadata": {
        "id": "C73kin-6e-ik"
      },
      "execution_count": 14,
      "outputs": []
    },
    {
      "cell_type": "code",
      "source": [
        "#declare model\n",
        "model2 =ConcreteModel()"
      ],
      "metadata": {
        "id": "jy5SnkTRfDtK"
      },
      "execution_count": 15,
      "outputs": []
    },
    {
      "cell_type": "code",
      "source": [
        "#declare variable\n",
        "model2.x =Var(domain=Reals)\n",
        "model2.y = Var(domain=Reals)"
      ],
      "metadata": {
        "id": "nvnQFSGGfRFH"
      },
      "execution_count": 17,
      "outputs": []
    },
    {
      "cell_type": "code",
      "source": [
        "#objective\n",
        "model2.cost = Objective(expr = 1200*model2.x + 2580*model2.y,sense = minimize)"
      ],
      "metadata": {
        "id": "yekZw_nOfk3T"
      },
      "execution_count": 18,
      "outputs": []
    },
    {
      "cell_type": "code",
      "source": [
        "#declare constraint\n",
        "model2.constr1 = Constraint( expr = 2.18*model2.x + 1.08333*model2.y <=980)\n",
        "model2.constr2 = Constraint( expr = model2.x + model2.y >=145)\n",
        "model2.constr3 = Constraint( expr = model2.x >= 147)\n",
        "model2.constr4 = Constraint(expr = model2.y >= 222)"
      ],
      "metadata": {
        "id": "6C4KiaAbfrkr"
      },
      "execution_count": 19,
      "outputs": []
    },
    {
      "cell_type": "code",
      "source": [
        "!apt-get install -y -qq glpk.utils"
      ],
      "metadata": {
        "id": "ppLoD7xqf5XV"
      },
      "execution_count": 20,
      "outputs": []
    },
    {
      "cell_type": "code",
      "source": [
        "model2.pprint()"
      ],
      "metadata": {
        "colab": {
          "base_uri": "https://localhost:8080/"
        },
        "id": "6IL4buxef_js",
        "outputId": "ad6dab67-83d7-45ce-d059-dd434369081e"
      },
      "execution_count": 21,
      "outputs": [
        {
          "output_type": "stream",
          "name": "stdout",
          "text": [
            "2 Var Declarations\n",
            "    x : Size=1, Index=None\n",
            "        Key  : Lower : Value : Upper : Fixed : Stale : Domain\n",
            "        None :  None :  None :  None : False :  True :  Reals\n",
            "    y : Size=1, Index=None\n",
            "        Key  : Lower : Value : Upper : Fixed : Stale : Domain\n",
            "        None :  None :  None :  None : False :  True :  Reals\n",
            "\n",
            "1 Objective Declarations\n",
            "    cost : Size=1, Index=None, Active=True\n",
            "        Key  : Active : Sense    : Expression\n",
            "        None :   True : minimize : 1200*x + 2580*y\n",
            "\n",
            "4 Constraint Declarations\n",
            "    constr1 : Size=1, Index=None, Active=True\n",
            "        Key  : Lower : Body               : Upper : Active\n",
            "        None :  -Inf : 2.18*x + 1.08333*y : 980.0 :   True\n",
            "    constr2 : Size=1, Index=None, Active=True\n",
            "        Key  : Lower : Body  : Upper : Active\n",
            "        None : 145.0 : x + y :  +Inf :   True\n",
            "    constr3 : Size=1, Index=None, Active=True\n",
            "        Key  : Lower : Body : Upper : Active\n",
            "        None : 147.0 :    x :  +Inf :   True\n",
            "    constr4 : Size=1, Index=None, Active=True\n",
            "        Key  : Lower : Body : Upper : Active\n",
            "        None : 222.0 :    y :  +Inf :   True\n",
            "\n",
            "7 Declarations: x y cost constr1 constr2 constr3 constr4\n"
          ]
        }
      ]
    },
    {
      "cell_type": "code",
      "source": [
        "SolverFactory('glpk',excutable = '/usr/bin/glpsol').solve(model2).write()"
      ],
      "metadata": {
        "colab": {
          "base_uri": "https://localhost:8080/"
        },
        "id": "whS0Qh86gGK1",
        "outputId": "2774b157-c242-42fc-cef7-49e12907cc62"
      },
      "execution_count": 22,
      "outputs": [
        {
          "output_type": "stream",
          "name": "stdout",
          "text": [
            "# ==========================================================\n",
            "# = Solver Results                                         =\n",
            "# ==========================================================\n",
            "# ----------------------------------------------------------\n",
            "#   Problem Information\n",
            "# ----------------------------------------------------------\n",
            "Problem: \n",
            "- Name: unknown\n",
            "  Lower bound: 749160.0\n",
            "  Upper bound: 749160.0\n",
            "  Number of objectives: 1\n",
            "  Number of constraints: 5\n",
            "  Number of variables: 3\n",
            "  Number of nonzeros: 7\n",
            "  Sense: minimize\n",
            "# ----------------------------------------------------------\n",
            "#   Solver Information\n",
            "# ----------------------------------------------------------\n",
            "Solver: \n",
            "- Status: ok\n",
            "  Termination condition: optimal\n",
            "  Statistics: \n",
            "    Branch and bound: \n",
            "      Number of bounded subproblems: 0\n",
            "      Number of created subproblems: 0\n",
            "  Error rc: 0\n",
            "  Time: 0.013033390045166016\n",
            "# ----------------------------------------------------------\n",
            "#   Solution Information\n",
            "# ----------------------------------------------------------\n",
            "Solution: \n",
            "- number of solutions: 0\n",
            "  number of solutions displayed: 0\n"
          ]
        }
      ]
    },
    {
      "cell_type": "code",
      "source": [
        "#display solution\n",
        "print('\\ncost = ',model2.cost())\n",
        "print('\\decision variable')\n",
        "print('x=',model2.x())\n",
        "print('y = ',model2.y())\n",
        "print('\\n constraints')\n",
        "print('constraint1=',model2.constr1())\n",
        "print('constraint2 = ',model2.constr2())\n",
        "print('constraint3 = ',model2.constr3())\n",
        "print('constraint4 = ',model2.constr4())"
      ],
      "metadata": {
        "colab": {
          "base_uri": "https://localhost:8080/"
        },
        "id": "JWd_0sLngMTv",
        "outputId": "aa1f14eb-0171-4b01-ec02-105cce009dc7"
      },
      "execution_count": 23,
      "outputs": [
        {
          "output_type": "stream",
          "name": "stdout",
          "text": [
            "\n",
            "cost =  749160.0\n",
            "\\decision variable\n",
            "x= 147.0\n",
            "y =  222.0\n",
            "\n",
            " constraints\n",
            "constraint1= 560.9592600000001\n",
            "constraint2 =  369.0\n",
            "constraint3 =  147.0\n",
            "constraint4 =  222.0\n"
          ]
        }
      ]
    },
    {
      "cell_type": "markdown",
      "source": [
        "$ \\\\ \\textbf{solution of 3.6} \\\\ \\\\ \\textbf{optimal value = 749160} \\\\ \\\\ \\textbf{optimal value of decision variable} \\\\ \\ x = 147 \\\\ \\ y= 222 \\\\ \\\\ \\text{constraint 1 and constraint 2 is inactive constraint 3 and constraint 4 is active} \\\\ \\\\ \\text{jen industries wants to minimise production cost so previous order is good  it doesn't take new order} $"
      ],
      "metadata": {
        "id": "RSdi6QP2hS55"
      }
    }
  ]
}