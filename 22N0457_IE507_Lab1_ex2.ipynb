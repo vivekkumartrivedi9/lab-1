{
  "nbformat": 4,
  "nbformat_minor": 0,
  "metadata": {
    "colab": {
      "name": "22N0457_IE507_Lab1_ex2.ipynb",
      "provenance": [],
      "collapsed_sections": []
    },
    "kernelspec": {
      "name": "python3",
      "display_name": "Python 3"
    },
    "language_info": {
      "name": "python"
    }
  },
  "cells": [
    {
      "cell_type": "markdown",
      "source": [
        "**solution of ex 2.1**\\\n",
        "$\\\\ \\textbf{optimisation problem as linear problem}\\ \\\\ max\\ 0.082x_1+0.036x_2+0.0156x_3+0.033x_4+0.054x_5+0.0125y \\ \\\\ 3x_1-3x_2+5x_3-x_4+x_5-y <=80 \\\\ \\ x_3+2x_4+4_y >=30 \\\\ \\ 3x_1+ 3.6x_2-1.5x_3+5.6x_4-1.8x_5+6x_6 <=0 \\\\ \\ 7x_1-2x_2-3x_3+4x_4+5x_5-6x_6+12y<=0 \\\\ \\ x_1,x_2,x_3,x_4,x_5,x_6>=0 \\\\ \\ -0.2<=y<=5.5 \\\\ \\ assumption \\\\ \\ -x_2-x_4+x_5 >0 \\\\ \\ and -x_1+x_3+x_6-2y>0$"
      ],
      "metadata": {
        "id": "YoWoY5v3MF24"
      }
    },
    {
      "cell_type": "code",
      "execution_count": 1,
      "metadata": {
        "id": "r6rsShKaOSyv",
        "colab": {
          "base_uri": "https://localhost:8080/"
        },
        "outputId": "e4d30f4b-3987-43c5-c7e4-883ff25b41a6"
      },
      "outputs": [
        {
          "output_type": "stream",
          "name": "stdout",
          "text": [
            "\u001b[K     |████████████████████████████████| 9.6 MB 8.0 MB/s \n",
            "\u001b[K     |████████████████████████████████| 49 kB 5.3 MB/s \n",
            "\u001b[?25h"
          ]
        }
      ],
      "source": [
        "!pip install -q pyomo"
      ]
    },
    {
      "cell_type": "code",
      "source": [
        "from pyomo.environ import *"
      ],
      "metadata": {
        "id": "B7WT0bZ8O6Ek"
      },
      "execution_count": 2,
      "outputs": []
    },
    {
      "cell_type": "code",
      "source": [
        "model2 =ConcreteModel()"
      ],
      "metadata": {
        "id": "M2ahAvPXPBxu"
      },
      "execution_count": 3,
      "outputs": []
    },
    {
      "cell_type": "code",
      "source": [
        "#declare variable\n",
        "model2.x1 = Var(within=NonNegativeReals)\n",
        "model2.x2 =Var(within=NonNegativeReals)\n",
        "model2.x3 =Var(within=NonNegativeReals)\n",
        "model2.x4 =Var(within=NonNegativeReals)\n",
        "model2.x5 =Var(within=NonNegativeReals)\n",
        "model2.x6 =Var(within=NonNegativeReals)\n",
        "model2.y =Var(bounds=(-0.2,5.5))"
      ],
      "metadata": {
        "id": "Oh5JHbzUPMKO"
      },
      "execution_count": 4,
      "outputs": []
    },
    {
      "cell_type": "code",
      "source": [
        "#declare objctive\n",
        "model2.cost=Objective(expr= 0.082*model2.x1 + 0.036*model2.x2 + 0.0156*model2.x3 + 0.033*model2.x4 + 0.054*model2.x5 + 0.0125*model2.y,sense=maximize)"
      ],
      "metadata": {
        "id": "dKavB05qTAwo"
      },
      "execution_count": 5,
      "outputs": []
    },
    {
      "cell_type": "code",
      "source": [
        "#declare constraints\n",
        "model2.con1=Constraint(expr= 3*model2.x1 - 3*model2.x2 + 5*model2.x3 - model2.x4 + model2.x5 - model2.y <= 80)\n",
        "model2.con2=Constraint(expr= model2.x3 + 2*model2.x4 + 4*model2.y >=30)\n",
        "model2.con3 = Constraint(expr = 3*model2.x1 + 3.6*model2.x2 - 1.5*model2.x3 + 5.6*model2.x4 - 1.8*model2.x5 + 6*model2.x6 <= 0)\n",
        "model2.con4 = Constraint(expr = 7*model2.x1 - 2*model2.x2 - 3*model2.x3 + 4*model2.x4 + 5*model2.x5 - 6*model2.x6 + 12*model2.y <= 0)"
      ],
      "metadata": {
        "id": "zXO9gav8VJZL"
      },
      "execution_count": 6,
      "outputs": []
    },
    {
      "cell_type": "code",
      "source": [
        "!apt-get install -y -qq glpk.utils"
      ],
      "metadata": {
        "id": "88eDBzocbkty",
        "colab": {
          "base_uri": "https://localhost:8080/"
        },
        "outputId": "4dd06e8d-62d5-4d95-b22c-140ebe0f7ed3"
      },
      "execution_count": 7,
      "outputs": [
        {
          "output_type": "stream",
          "name": "stdout",
          "text": [
            "Selecting previously unselected package libsuitesparseconfig5:amd64.\n",
            "(Reading database ... 155673 files and directories currently installed.)\n",
            "Preparing to unpack .../libsuitesparseconfig5_1%3a5.1.2-2_amd64.deb ...\n",
            "Unpacking libsuitesparseconfig5:amd64 (1:5.1.2-2) ...\n",
            "Selecting previously unselected package libamd2:amd64.\n",
            "Preparing to unpack .../libamd2_1%3a5.1.2-2_amd64.deb ...\n",
            "Unpacking libamd2:amd64 (1:5.1.2-2) ...\n",
            "Selecting previously unselected package libcolamd2:amd64.\n",
            "Preparing to unpack .../libcolamd2_1%3a5.1.2-2_amd64.deb ...\n",
            "Unpacking libcolamd2:amd64 (1:5.1.2-2) ...\n",
            "Selecting previously unselected package libglpk40:amd64.\n",
            "Preparing to unpack .../libglpk40_4.65-1_amd64.deb ...\n",
            "Unpacking libglpk40:amd64 (4.65-1) ...\n",
            "Selecting previously unselected package glpk-utils.\n",
            "Preparing to unpack .../glpk-utils_4.65-1_amd64.deb ...\n",
            "Unpacking glpk-utils (4.65-1) ...\n",
            "Setting up libsuitesparseconfig5:amd64 (1:5.1.2-2) ...\n",
            "Setting up libcolamd2:amd64 (1:5.1.2-2) ...\n",
            "Setting up libamd2:amd64 (1:5.1.2-2) ...\n",
            "Setting up libglpk40:amd64 (4.65-1) ...\n",
            "Setting up glpk-utils (4.65-1) ...\n",
            "Processing triggers for libc-bin (2.27-3ubuntu1.3) ...\n",
            "Processing triggers for man-db (2.8.3-2ubuntu0.1) ...\n"
          ]
        }
      ]
    },
    {
      "cell_type": "code",
      "source": [
        "model2.pprint()"
      ],
      "metadata": {
        "colab": {
          "base_uri": "https://localhost:8080/"
        },
        "id": "OgZOYUbpb7I0",
        "outputId": "f14c9ffc-231a-4484-90d8-23952585fe84"
      },
      "execution_count": 8,
      "outputs": [
        {
          "output_type": "stream",
          "name": "stdout",
          "text": [
            "7 Var Declarations\n",
            "    x1 : Size=1, Index=None\n",
            "        Key  : Lower : Value : Upper : Fixed : Stale : Domain\n",
            "        None :     0 :  None :  None : False :  True : NonNegativeReals\n",
            "    x2 : Size=1, Index=None\n",
            "        Key  : Lower : Value : Upper : Fixed : Stale : Domain\n",
            "        None :     0 :  None :  None : False :  True : NonNegativeReals\n",
            "    x3 : Size=1, Index=None\n",
            "        Key  : Lower : Value : Upper : Fixed : Stale : Domain\n",
            "        None :     0 :  None :  None : False :  True : NonNegativeReals\n",
            "    x4 : Size=1, Index=None\n",
            "        Key  : Lower : Value : Upper : Fixed : Stale : Domain\n",
            "        None :     0 :  None :  None : False :  True : NonNegativeReals\n",
            "    x5 : Size=1, Index=None\n",
            "        Key  : Lower : Value : Upper : Fixed : Stale : Domain\n",
            "        None :     0 :  None :  None : False :  True : NonNegativeReals\n",
            "    x6 : Size=1, Index=None\n",
            "        Key  : Lower : Value : Upper : Fixed : Stale : Domain\n",
            "        None :     0 :  None :  None : False :  True : NonNegativeReals\n",
            "    y : Size=1, Index=None\n",
            "        Key  : Lower : Value : Upper : Fixed : Stale : Domain\n",
            "        None :  -0.2 :  None :   5.5 : False :  True :  Reals\n",
            "\n",
            "1 Objective Declarations\n",
            "    cost : Size=1, Index=None, Active=True\n",
            "        Key  : Active : Sense    : Expression\n",
            "        None :   True : maximize : 0.082*x1 + 0.036*x2 + 0.0156*x3 + 0.033*x4 + 0.054*x5 + 0.0125*y\n",
            "\n",
            "4 Constraint Declarations\n",
            "    con1 : Size=1, Index=None, Active=True\n",
            "        Key  : Lower : Body                             : Upper : Active\n",
            "        None :  -Inf : 3*x1 - 3*x2 + 5*x3 - x4 + x5 - y :  80.0 :   True\n",
            "    con2 : Size=1, Index=None, Active=True\n",
            "        Key  : Lower : Body            : Upper : Active\n",
            "        None :  30.0 : x3 + 2*x4 + 4*y :  +Inf :   True\n",
            "    con3 : Size=1, Index=None, Active=True\n",
            "        Key  : Lower : Body                                            : Upper : Active\n",
            "        None :  -Inf : 3*x1 + 3.6*x2 - 1.5*x3 + 5.6*x4 - 1.8*x5 + 6*x6 :   0.0 :   True\n",
            "    con4 : Size=1, Index=None, Active=True\n",
            "        Key  : Lower : Body                                           : Upper : Active\n",
            "        None :  -Inf : 7*x1 - 2*x2 - 3*x3 + 4*x4 + 5*x5 - 6*x6 + 12*y :   0.0 :   True\n",
            "\n",
            "12 Declarations: x1 x2 x3 x4 x5 x6 y cost con1 con2 con3 con4\n"
          ]
        }
      ]
    },
    {
      "cell_type": "code",
      "source": [
        "SolverFactory('glpk', executable='/usr/bin/glpsol').solve(model2).write()"
      ],
      "metadata": {
        "colab": {
          "base_uri": "https://localhost:8080/"
        },
        "id": "b0PloPN1cEmV",
        "outputId": "42124317-3930-40c1-f674-2eb40477721d"
      },
      "execution_count": 9,
      "outputs": [
        {
          "output_type": "stream",
          "name": "stdout",
          "text": [
            "# ==========================================================\n",
            "# = Solver Results                                         =\n",
            "# ==========================================================\n",
            "# ----------------------------------------------------------\n",
            "#   Problem Information\n",
            "# ----------------------------------------------------------\n",
            "Problem: \n",
            "- Name: unknown\n",
            "  Lower bound: 2.12102483443709\n",
            "  Upper bound: 2.12102483443709\n",
            "  Number of objectives: 1\n",
            "  Number of constraints: 5\n",
            "  Number of variables: 8\n",
            "  Number of nonzeros: 23\n",
            "  Sense: maximize\n",
            "# ----------------------------------------------------------\n",
            "#   Solver Information\n",
            "# ----------------------------------------------------------\n",
            "Solver: \n",
            "- Status: ok\n",
            "  Termination condition: optimal\n",
            "  Statistics: \n",
            "    Branch and bound: \n",
            "      Number of bounded subproblems: 0\n",
            "      Number of created subproblems: 0\n",
            "  Error rc: 0\n",
            "  Time: 0.010277032852172852\n",
            "# ----------------------------------------------------------\n",
            "#   Solution Information\n",
            "# ----------------------------------------------------------\n",
            "Solution: \n",
            "- number of solutions: 0\n",
            "  number of solutions displayed: 0\n"
          ]
        }
      ]
    },
    {
      "cell_type": "code",
      "source": [
        "# display solution\n",
        "print('\\nCost = ', model2.cost())\n",
        "\n",
        "print('\\nDecision Variables')\n",
        "print('x1 = ', model2.x1())\n",
        "print('x2 = ', model2.x2())\n",
        "print('x3 = ', model2.x3())\n",
        "print('x4 = ', model2.x4())\n",
        "print('x5 = ',model2.x5())\n",
        "print('y = ',model2.y())\n",
        "\n",
        "print('\\nConstraints')\n",
        "print('Constraint 1  = ', model2.con1())\n",
        "print('Constraint 2  = ', model2.con2())\n",
        "print('Constraint 3  = ', model2.con3())\n",
        "print('Constraint 4  = ', model2.con4())"
      ],
      "metadata": {
        "id": "ICNKMus-dbtz",
        "colab": {
          "base_uri": "https://localhost:8080/"
        },
        "outputId": "acbf2c01-aec1-46a0-f2fa-2245107cf6c6"
      },
      "execution_count": 10,
      "outputs": [
        {
          "output_type": "stream",
          "name": "stdout",
          "text": [
            "\n",
            "Cost =  2.1210248344370837\n",
            "\n",
            "Decision Variables\n",
            "x1 =  0.0\n",
            "x2 =  19.5529801324503\n",
            "x3 =  24.2384105960265\n",
            "x4 =  0.0\n",
            "x5 =  18.9072847682119\n",
            "y =  1.44039735099338\n",
            "\n",
            "Constraints\n",
            "Constraint 1  =  80.00000000000011\n",
            "Constraint 2  =  30.00000000000002\n",
            "Constraint 3  =  -9.237055564881302e-14\n",
            "Constraint 4  =  -6.039613253960852e-14\n"
          ]
        }
      ]
    },
    {
      "cell_type": "markdown",
      "source": [
        "$\\\\ \\ **solution \\ \\ \\ \\ \\ of \\ \\ \\ \\ 2.3** \\\\ \\textbf{optimal solution value = 2.12102483} \\\\ \\textbf{variables value} \\\\ \\ x_1=0 \\\\ \\ x_2 = 19.552980 \\\\ \\ x_3 = 24.23841059 \\\\ \\ x_4 = 0 \\\\ \\ x_5 = 18.9072847682119 \\\\ \\ y= 1.44039735099 \\\\ \\ consraint \\ \\ 1 \\ \\ \\ is \\ \\ \\  active \\\\ \\ consraint  \\ \\ \\ \\ 2 \\ \\ \\ \\ is \\ \\ \\ \\  active \\\\ \\ constraint \\ \\ \\ \\ 3 \\ \\ \\ \\ is \\ \\ \\ \\ inactive \\\\ \\ consraint \\ \\ \\ \\ 4 \\ \\ \\ \\ is \\ \\ \\ \\ inactive$"
      ],
      "metadata": {
        "id": "poX5fCY1pszp"
      }
    },
    {
      "cell_type": "markdown",
      "source": [
        "$ \\\\ \\textbf{solution of 2.4}  \\\\ \\ my \\ \\ \\ assumption \\ \\ \\ is \\ \\ \\ denominator \\ \\ \\ must \\ \\ \\ be \\ \\ \\ greater \\ \\ \\ than \\ \\ \\ 0$"
      ],
      "metadata": {
        "id": "MvX6ZJvTsrE5"
      }
    }
  ]
}